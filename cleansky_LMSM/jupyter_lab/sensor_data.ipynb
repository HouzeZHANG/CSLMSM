{
 "cells": [
  {
   "cell_type": "code",
   "execution_count": 10,
   "outputs": [],
   "source": [
    "import pandas as pd\n",
    "df = pd.read_csv(filepath_or_buffer=r\"C:\\code\\gitDrive\\CSLMSM\\cleansky_LMSM\\file_input\\160622_06_34_41_modif.csv\", header=0, sep=';')"
   ],
   "metadata": {
    "collapsed": false,
    "pycharm": {
     "name": "#%%\n"
    }
   }
  },
  {
   "cell_type": "code",
   "execution_count": 11,
   "outputs": [
    {
     "data": {
      "text/plain": "      16/06/2022 6:34:41:0    A/C                0-0   0-0.1  0-0.2  \\\n0          H RTC     m RTC  s RTC  ss RTC          P       T      H   \n1              6        35     16     878  100193.36   19.40  49.51   \n2              6        35     17     869  100191.51   19.41  49.54   \n3              6        35     18     857  100192.36   19.41  49.14   \n4              6        35     19     841  100190.52   19.42  49.14   \n...          ...       ...    ...     ...        ...     ...    ...   \n11287          9        42     36     750  100331.93   28.11  34.28   \n11288          9        42     37     751  100331.09   28.11  34.60   \n11289          9        42     38     755  100328.35   28.11  34.07   \n11290          9        42     39     756  100334.86   28.10  34.05   \n11291          9        42     40     770  100331.93   28.11  34.39   \n\n             0-1   0-1.1  0-1.2  ...  0-8.2        0-9   0-9.1  0-9.2  \\\n0              P       T      H  ...      H          P       T      H   \n1      100113.85   19.51  49.27  ...  46.58  100183.06   19.82  46.52   \n2      100111.17   19.51  49.36  ...  46.60  100180.24   19.84  46.52   \n3      100107.49   19.52  49.34  ...  46.57  100183.72   19.84  46.52   \n4      100117.23   19.53  49.35  ...  46.56  100181.06   19.84  46.54   \n...          ...     ...    ...  ...    ...        ...     ...    ...   \n11287  100265.92   28.37  34.90  ...  34.70  100336.31   29.51  35.39   \n11288  100260.65   28.35  35.23  ...  34.73  100340.65   29.52  35.42   \n11289  100266.09   28.35  35.24  ...  34.73  100347.70   29.53  35.43   \n11290  100275.94   28.36  35.15  ...  34.76  100339.60   29.53  35.46   \n11291  100265.27   28.35  35.20  ...  34.78  100336.08   29.53  35.46   \n\n            0-10  0-10.1 0-10.2       0-11  0-11.1 0-11.2  \n0              P       T      H          P       T      H  \n1      100145.09   19.79  46.33  100175.23   20.18  48.34  \n2      100144.08   19.80  46.33  100176.97   20.19  48.32  \n3      100144.08   19.80  46.33  100174.26   20.19  48.32  \n4      100143.06   19.81  46.32  100173.30   20.20  48.31  \n...          ...     ...    ...        ...     ...    ...  \n11287  100297.70   29.48  36.52  100320.80   30.10  35.09  \n11288  100304.81   29.49  36.53  100318.05   30.10  35.12  \n11289  100304.81   29.49  36.55  100319.07   30.09  35.14  \n11290  100303.98   29.49  36.55  100317.03   30.11  35.21  \n11291  100301.26   29.49  36.59  100320.80   30.10  35.22  \n\n[11292 rows x 40 columns]",
      "text/html": "<div>\n<style scoped>\n    .dataframe tbody tr th:only-of-type {\n        vertical-align: middle;\n    }\n\n    .dataframe tbody tr th {\n        vertical-align: top;\n    }\n\n    .dataframe thead th {\n        text-align: right;\n    }\n</style>\n<table border=\"1\" class=\"dataframe\">\n  <thead>\n    <tr style=\"text-align: right;\">\n      <th></th>\n      <th>16/06/2022</th>\n      <th>6:34:41:0</th>\n      <th>A/C</th>\n      <th></th>\n      <th>0-0</th>\n      <th>0-0.1</th>\n      <th>0-0.2</th>\n      <th>0-1</th>\n      <th>0-1.1</th>\n      <th>0-1.2</th>\n      <th>...</th>\n      <th>0-8.2</th>\n      <th>0-9</th>\n      <th>0-9.1</th>\n      <th>0-9.2</th>\n      <th>0-10</th>\n      <th>0-10.1</th>\n      <th>0-10.2</th>\n      <th>0-11</th>\n      <th>0-11.1</th>\n      <th>0-11.2</th>\n    </tr>\n  </thead>\n  <tbody>\n    <tr>\n      <th>0</th>\n      <td>H RTC</td>\n      <td>m RTC</td>\n      <td>s RTC</td>\n      <td>ss RTC</td>\n      <td>P</td>\n      <td>T</td>\n      <td>H</td>\n      <td>P</td>\n      <td>T</td>\n      <td>H</td>\n      <td>...</td>\n      <td>H</td>\n      <td>P</td>\n      <td>T</td>\n      <td>H</td>\n      <td>P</td>\n      <td>T</td>\n      <td>H</td>\n      <td>P</td>\n      <td>T</td>\n      <td>H</td>\n    </tr>\n    <tr>\n      <th>1</th>\n      <td>6</td>\n      <td>35</td>\n      <td>16</td>\n      <td>878</td>\n      <td>100193.36</td>\n      <td>19.40</td>\n      <td>49.51</td>\n      <td>100113.85</td>\n      <td>19.51</td>\n      <td>49.27</td>\n      <td>...</td>\n      <td>46.58</td>\n      <td>100183.06</td>\n      <td>19.82</td>\n      <td>46.52</td>\n      <td>100145.09</td>\n      <td>19.79</td>\n      <td>46.33</td>\n      <td>100175.23</td>\n      <td>20.18</td>\n      <td>48.34</td>\n    </tr>\n    <tr>\n      <th>2</th>\n      <td>6</td>\n      <td>35</td>\n      <td>17</td>\n      <td>869</td>\n      <td>100191.51</td>\n      <td>19.41</td>\n      <td>49.54</td>\n      <td>100111.17</td>\n      <td>19.51</td>\n      <td>49.36</td>\n      <td>...</td>\n      <td>46.60</td>\n      <td>100180.24</td>\n      <td>19.84</td>\n      <td>46.52</td>\n      <td>100144.08</td>\n      <td>19.80</td>\n      <td>46.33</td>\n      <td>100176.97</td>\n      <td>20.19</td>\n      <td>48.32</td>\n    </tr>\n    <tr>\n      <th>3</th>\n      <td>6</td>\n      <td>35</td>\n      <td>18</td>\n      <td>857</td>\n      <td>100192.36</td>\n      <td>19.41</td>\n      <td>49.14</td>\n      <td>100107.49</td>\n      <td>19.52</td>\n      <td>49.34</td>\n      <td>...</td>\n      <td>46.57</td>\n      <td>100183.72</td>\n      <td>19.84</td>\n      <td>46.52</td>\n      <td>100144.08</td>\n      <td>19.80</td>\n      <td>46.33</td>\n      <td>100174.26</td>\n      <td>20.19</td>\n      <td>48.32</td>\n    </tr>\n    <tr>\n      <th>4</th>\n      <td>6</td>\n      <td>35</td>\n      <td>19</td>\n      <td>841</td>\n      <td>100190.52</td>\n      <td>19.42</td>\n      <td>49.14</td>\n      <td>100117.23</td>\n      <td>19.53</td>\n      <td>49.35</td>\n      <td>...</td>\n      <td>46.56</td>\n      <td>100181.06</td>\n      <td>19.84</td>\n      <td>46.54</td>\n      <td>100143.06</td>\n      <td>19.81</td>\n      <td>46.32</td>\n      <td>100173.30</td>\n      <td>20.20</td>\n      <td>48.31</td>\n    </tr>\n    <tr>\n      <th>...</th>\n      <td>...</td>\n      <td>...</td>\n      <td>...</td>\n      <td>...</td>\n      <td>...</td>\n      <td>...</td>\n      <td>...</td>\n      <td>...</td>\n      <td>...</td>\n      <td>...</td>\n      <td>...</td>\n      <td>...</td>\n      <td>...</td>\n      <td>...</td>\n      <td>...</td>\n      <td>...</td>\n      <td>...</td>\n      <td>...</td>\n      <td>...</td>\n      <td>...</td>\n      <td>...</td>\n    </tr>\n    <tr>\n      <th>11287</th>\n      <td>9</td>\n      <td>42</td>\n      <td>36</td>\n      <td>750</td>\n      <td>100331.93</td>\n      <td>28.11</td>\n      <td>34.28</td>\n      <td>100265.92</td>\n      <td>28.37</td>\n      <td>34.90</td>\n      <td>...</td>\n      <td>34.70</td>\n      <td>100336.31</td>\n      <td>29.51</td>\n      <td>35.39</td>\n      <td>100297.70</td>\n      <td>29.48</td>\n      <td>36.52</td>\n      <td>100320.80</td>\n      <td>30.10</td>\n      <td>35.09</td>\n    </tr>\n    <tr>\n      <th>11288</th>\n      <td>9</td>\n      <td>42</td>\n      <td>37</td>\n      <td>751</td>\n      <td>100331.09</td>\n      <td>28.11</td>\n      <td>34.60</td>\n      <td>100260.65</td>\n      <td>28.35</td>\n      <td>35.23</td>\n      <td>...</td>\n      <td>34.73</td>\n      <td>100340.65</td>\n      <td>29.52</td>\n      <td>35.42</td>\n      <td>100304.81</td>\n      <td>29.49</td>\n      <td>36.53</td>\n      <td>100318.05</td>\n      <td>30.10</td>\n      <td>35.12</td>\n    </tr>\n    <tr>\n      <th>11289</th>\n      <td>9</td>\n      <td>42</td>\n      <td>38</td>\n      <td>755</td>\n      <td>100328.35</td>\n      <td>28.11</td>\n      <td>34.07</td>\n      <td>100266.09</td>\n      <td>28.35</td>\n      <td>35.24</td>\n      <td>...</td>\n      <td>34.73</td>\n      <td>100347.70</td>\n      <td>29.53</td>\n      <td>35.43</td>\n      <td>100304.81</td>\n      <td>29.49</td>\n      <td>36.55</td>\n      <td>100319.07</td>\n      <td>30.09</td>\n      <td>35.14</td>\n    </tr>\n    <tr>\n      <th>11290</th>\n      <td>9</td>\n      <td>42</td>\n      <td>39</td>\n      <td>756</td>\n      <td>100334.86</td>\n      <td>28.10</td>\n      <td>34.05</td>\n      <td>100275.94</td>\n      <td>28.36</td>\n      <td>35.15</td>\n      <td>...</td>\n      <td>34.76</td>\n      <td>100339.60</td>\n      <td>29.53</td>\n      <td>35.46</td>\n      <td>100303.98</td>\n      <td>29.49</td>\n      <td>36.55</td>\n      <td>100317.03</td>\n      <td>30.11</td>\n      <td>35.21</td>\n    </tr>\n    <tr>\n      <th>11291</th>\n      <td>9</td>\n      <td>42</td>\n      <td>40</td>\n      <td>770</td>\n      <td>100331.93</td>\n      <td>28.11</td>\n      <td>34.39</td>\n      <td>100265.27</td>\n      <td>28.35</td>\n      <td>35.20</td>\n      <td>...</td>\n      <td>34.78</td>\n      <td>100336.08</td>\n      <td>29.53</td>\n      <td>35.46</td>\n      <td>100301.26</td>\n      <td>29.49</td>\n      <td>36.59</td>\n      <td>100320.80</td>\n      <td>30.10</td>\n      <td>35.22</td>\n    </tr>\n  </tbody>\n</table>\n<p>11292 rows × 40 columns</p>\n</div>"
     },
     "execution_count": 11,
     "metadata": {},
     "output_type": "execute_result"
    }
   ],
   "source": [
    "df"
   ],
   "metadata": {
    "collapsed": false,
    "pycharm": {
     "name": "#%%\n"
    }
   }
  },
  {
   "cell_type": "code",
   "execution_count": 12,
   "outputs": [
    {
     "data": {
      "text/plain": "Index(['16/06/2022', '6:34:41:0', 'A/C'], dtype='object')"
     },
     "execution_count": 12,
     "metadata": {},
     "output_type": "execute_result"
    }
   ],
   "source": [
    "test_info = df.columns[:3]\n",
    "test_info"
   ],
   "metadata": {
    "collapsed": false,
    "pycharm": {
     "name": "#%%\n"
    }
   }
  },
  {
   "cell_type": "code",
   "execution_count": 13,
   "outputs": [
    {
     "data": {
      "text/plain": "      16/06/2022 6:34:41:0 A/C     \n1              6        35  16  878\n2              6        35  17  869\n3              6        35  18  857\n4              6        35  19  841\n5              6        35  20  832\n...          ...       ...  ..  ...\n11287          9        42  36  750\n11288          9        42  37  751\n11289          9        42  38  755\n11290          9        42  39  756\n11291          9        42  40  770\n\n[11291 rows x 4 columns]",
      "text/html": "<div>\n<style scoped>\n    .dataframe tbody tr th:only-of-type {\n        vertical-align: middle;\n    }\n\n    .dataframe tbody tr th {\n        vertical-align: top;\n    }\n\n    .dataframe thead th {\n        text-align: right;\n    }\n</style>\n<table border=\"1\" class=\"dataframe\">\n  <thead>\n    <tr style=\"text-align: right;\">\n      <th></th>\n      <th>16/06/2022</th>\n      <th>6:34:41:0</th>\n      <th>A/C</th>\n      <th></th>\n    </tr>\n  </thead>\n  <tbody>\n    <tr>\n      <th>1</th>\n      <td>6</td>\n      <td>35</td>\n      <td>16</td>\n      <td>878</td>\n    </tr>\n    <tr>\n      <th>2</th>\n      <td>6</td>\n      <td>35</td>\n      <td>17</td>\n      <td>869</td>\n    </tr>\n    <tr>\n      <th>3</th>\n      <td>6</td>\n      <td>35</td>\n      <td>18</td>\n      <td>857</td>\n    </tr>\n    <tr>\n      <th>4</th>\n      <td>6</td>\n      <td>35</td>\n      <td>19</td>\n      <td>841</td>\n    </tr>\n    <tr>\n      <th>5</th>\n      <td>6</td>\n      <td>35</td>\n      <td>20</td>\n      <td>832</td>\n    </tr>\n    <tr>\n      <th>...</th>\n      <td>...</td>\n      <td>...</td>\n      <td>...</td>\n      <td>...</td>\n    </tr>\n    <tr>\n      <th>11287</th>\n      <td>9</td>\n      <td>42</td>\n      <td>36</td>\n      <td>750</td>\n    </tr>\n    <tr>\n      <th>11288</th>\n      <td>9</td>\n      <td>42</td>\n      <td>37</td>\n      <td>751</td>\n    </tr>\n    <tr>\n      <th>11289</th>\n      <td>9</td>\n      <td>42</td>\n      <td>38</td>\n      <td>755</td>\n    </tr>\n    <tr>\n      <th>11290</th>\n      <td>9</td>\n      <td>42</td>\n      <td>39</td>\n      <td>756</td>\n    </tr>\n    <tr>\n      <th>11291</th>\n      <td>9</td>\n      <td>42</td>\n      <td>40</td>\n      <td>770</td>\n    </tr>\n  </tbody>\n</table>\n<p>11291 rows × 4 columns</p>\n</div>"
     },
     "execution_count": 13,
     "metadata": {},
     "output_type": "execute_result"
    }
   ],
   "source": [
    "time_df = df[df.columns[:4]][1:]\n",
    "time_df"
   ],
   "metadata": {
    "collapsed": false,
    "pycharm": {
     "name": "#%%\n"
    }
   }
  },
  {
   "cell_type": "code",
   "execution_count": 14,
   "outputs": [
    {
     "name": "stdout",
     "output_type": "stream",
     "text": [
      "6:35:16.878\n",
      "100193.36\n"
     ]
    }
   ],
   "source": [
    "for loc_list in df.columns[4:]:\n",
    "    my_df = df[loc_list][1:]\n",
    "    my_df = pd.concat([time_df, my_df], axis=1)\n",
    "    # print(my_df)\n",
    "    # break\n",
    "    for index, row in my_df.iterrows():\n",
    "        time_stamp = str(row[0]) + \":\" + str(row[1]) + \":\" + str(row[2]) + \".\" + str(row[3])\n",
    "        print(time_stamp)\n",
    "        v = row[4]\n",
    "        print(v)\n",
    "        break\n",
    "    break"
   ],
   "metadata": {
    "collapsed": false,
    "pycharm": {
     "name": "#%%\n"
    }
   }
  },
  {
   "cell_type": "code",
   "execution_count": 15,
   "outputs": [
    {
     "data": {
      "text/plain": "Index(['16/06/2022', '6:34:41:0', 'A/C', '  ', '0-0', '0-0.1', '0-0.2', '0-1',\n       '0-1.1', '0-1.2', '0-2', '0-2.1', '0-2.2', '0-3', '0-3.1', '0-3.2',\n       '0-4', '0-4.1', '0-4.2', '0-5', '0-5.1', '0-5.2', '0-6', '0-6.1',\n       '0-6.2', '0-7', '0-7.1', '0-7.2', '0-8', '0-8.1', '0-8.2', '0-9',\n       '0-9.1', '0-9.2', '0-10', '0-10.1', '0-10.2', '0-11', '0-11.1',\n       '0-11.2'],\n      dtype='object')"
     },
     "execution_count": 15,
     "metadata": {},
     "output_type": "execute_result"
    }
   ],
   "source": [
    "df.columns"
   ],
   "metadata": {
    "collapsed": false,
    "pycharm": {
     "name": "#%%\n"
    }
   }
  },
  {
   "cell_type": "code",
   "execution_count": 16,
   "outputs": [
    {
     "name": "stdout",
     "output_type": "stream",
     "text": [
      "['16/06/2022', '6:34:41:0', 'A/C', '  ', '0-0', '0-0', '0-0', '0-1', '0-1', '0-1', '0-2', '0-2', '0-2', '0-3', '0-3', '0-3', '0-4', '0-4', '0-4', '0-5', '0-5', '0-5', '0-6', '0-6', '0-6', '0-7', '0-7', '0-7', '0-8', '0-8', '0-8', '0-9', '0-9', '0-9', '0-10', '0-10', '0-10', '0-11', '0-11', '0-11']\n"
     ]
    }
   ],
   "source": [
    "loc_list = list(df.columns)\n",
    "for i in range(len(loc_list)):\n",
    "    if loc_list[i].find('.') != -1:\n",
    "        new_loc = loc_list[i]\n",
    "        new_loc = new_loc[:loc_list[i].find('.')]\n",
    "        loc_list[i] = new_loc\n",
    "print(loc_list)"
   ],
   "metadata": {
    "collapsed": false,
    "pycharm": {
     "name": "#%%\n"
    }
   }
  },
  {
   "cell_type": "code",
   "execution_count": 17,
   "outputs": [
    {
     "name": "stdout",
     "output_type": "stream",
     "text": [
      "0          P\n",
      "1        NaN\n",
      "2        NaN\n",
      "3        NaN\n",
      "4        NaN\n",
      "        ... \n",
      "11287    NaN\n",
      "11288    NaN\n",
      "11289    NaN\n",
      "11290    NaN\n",
      "11291    NaN\n",
      "Name: 0-2, Length: 11292, dtype: object\n"
     ]
    }
   ],
   "source": [
    "df1 = df['0-2']\n",
    "print(df1)"
   ],
   "metadata": {
    "collapsed": false,
    "pycharm": {
     "name": "#%%\n"
    }
   }
  },
  {
   "cell_type": "code",
   "execution_count": 18,
   "outputs": [
    {
     "data": {
      "text/plain": "nan"
     },
     "execution_count": 18,
     "metadata": {},
     "output_type": "execute_result"
    }
   ],
   "source": [
    "df1[2]"
   ],
   "metadata": {
    "collapsed": false,
    "pycharm": {
     "name": "#%%\n"
    }
   }
  },
  {
   "cell_type": "code",
   "execution_count": 21,
   "outputs": [
    {
     "data": {
      "text/plain": "True"
     },
     "execution_count": 21,
     "metadata": {},
     "output_type": "execute_result"
    }
   ],
   "source": [
    "pd.isna(df1[2])"
   ],
   "metadata": {
    "collapsed": false,
    "pycharm": {
     "name": "#%%\n"
    }
   }
  },
  {
   "cell_type": "code",
   "execution_count": 9,
   "outputs": [],
   "source": [],
   "metadata": {
    "collapsed": false,
    "pycharm": {
     "name": "#%%\n"
    }
   }
  }
 ],
 "metadata": {
  "kernelspec": {
   "display_name": "Python 3",
   "language": "python",
   "name": "python3"
  },
  "language_info": {
   "codemirror_mode": {
    "name": "ipython",
    "version": 2
   },
   "file_extension": ".py",
   "mimetype": "text/x-python",
   "name": "python",
   "nbconvert_exporter": "python",
   "pygments_lexer": "ipython2",
   "version": "2.7.6"
  }
 },
 "nbformat": 4,
 "nbformat_minor": 0
}