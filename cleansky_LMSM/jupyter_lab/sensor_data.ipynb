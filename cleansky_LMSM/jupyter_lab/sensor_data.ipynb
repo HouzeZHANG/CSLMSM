{
 "cells": [
  {
   "cell_type": "code",
   "execution_count": 1,
   "metadata": {
    "collapsed": true
   },
   "outputs": [
    {
     "data": {
      "text/plain": "       N/A  N/A.1             .1 BMP388 1024    BME280      0    0.1  \\\n0    H RTC  m RTC  s RTC  ss RTC      P    T         P      T      H   \n1       19     32     18     317    NaN  NaN  99124.48  21.68  35.93   \n2       19     32     19     271    NaN  NaN  99128.02  21.68  36.33   \n3       19     32     20     221    NaN  NaN  99123.48  21.69  36.06   \n4       19     32     21     169    NaN  NaN  99112.66  21.69   36.3   \n..     ...    ...    ...     ...    ...  ...       ...    ...    ...   \n210     19     35     36     395    NaN  NaN  99121.59  21.53  36.19   \n211     19     35     37     342    NaN  NaN  99115.15  21.54  36.17   \n212     19     35     38     292    NaN  NaN  99127.84  21.53  36.14   \n213     19     35     39     239    NaN  NaN  99118.88  21.53  36.12   \n214     19     35     40     189    NaN  NaN  99112.63  21.52  36.26   \n\n     BME280.1  ...      8  BME280.9   0.10      9 BME280.10   0.11     10  \\\n0           P  ...      H         P      T      H         P      T      H   \n1    99035.41  ...  34.27  99105.64  21.81  34.41  99071.52  21.66  34.76   \n2    99031.88  ...  34.26  99097.64  21.81  34.42  99071.52  21.66  34.73   \n3     99041.6  ...  34.28  99105.64  21.81   34.4   99080.2  21.68  34.72   \n4    99037.25  ...  34.26  99101.12  21.82   34.4  99071.52  21.66  34.72   \n..        ...  ...    ...       ...    ...    ...       ...    ...    ...   \n210  99039.39  ...  34.17  99103.48  21.58  34.31  99067.59  21.43  34.62   \n211  99031.32  ...  34.17  99098.15  21.58  34.31  99068.63  21.42  34.63   \n212  99030.29  ...  34.19  99098.15  21.58  34.32  99065.94  21.42  34.62   \n213  99038.54  ...  34.16  99093.64  21.59   34.3  99065.72  21.44  34.64   \n214  99037.54  ...  34.16  99098.97  21.59  34.33  99067.59  21.43  34.62   \n\n    BME280.11   0.12     11  \n0           P      T      H  \n1    99097.93   21.9  35.71  \n2     99107.8  21.91  35.69  \n3    99104.22   21.9   35.7  \n4     99101.5   21.9  35.69  \n..        ...    ...    ...  \n210  99093.54  21.68  35.52  \n211  99097.98  21.69   35.5  \n212  99097.12  21.68  35.48  \n213  99103.41  21.69  35.47  \n214  99097.12  21.68   35.5  \n\n[215 rows x 42 columns]",
      "text/html": "<div>\n<style scoped>\n    .dataframe tbody tr th:only-of-type {\n        vertical-align: middle;\n    }\n\n    .dataframe tbody tr th {\n        vertical-align: top;\n    }\n\n    .dataframe thead th {\n        text-align: right;\n    }\n</style>\n<table border=\"1\" class=\"dataframe\">\n  <thead>\n    <tr style=\"text-align: right;\">\n      <th></th>\n      <th>N/A</th>\n      <th>N/A.1</th>\n      <th></th>\n      <th>.1</th>\n      <th>BMP388</th>\n      <th>1024</th>\n      <th>BME280</th>\n      <th>0</th>\n      <th>0.1</th>\n      <th>BME280.1</th>\n      <th>...</th>\n      <th>8</th>\n      <th>BME280.9</th>\n      <th>0.10</th>\n      <th>9</th>\n      <th>BME280.10</th>\n      <th>0.11</th>\n      <th>10</th>\n      <th>BME280.11</th>\n      <th>0.12</th>\n      <th>11</th>\n    </tr>\n  </thead>\n  <tbody>\n    <tr>\n      <th>0</th>\n      <td>H RTC</td>\n      <td>m RTC</td>\n      <td>s RTC</td>\n      <td>ss RTC</td>\n      <td>P</td>\n      <td>T</td>\n      <td>P</td>\n      <td>T</td>\n      <td>H</td>\n      <td>P</td>\n      <td>...</td>\n      <td>H</td>\n      <td>P</td>\n      <td>T</td>\n      <td>H</td>\n      <td>P</td>\n      <td>T</td>\n      <td>H</td>\n      <td>P</td>\n      <td>T</td>\n      <td>H</td>\n    </tr>\n    <tr>\n      <th>1</th>\n      <td>19</td>\n      <td>32</td>\n      <td>18</td>\n      <td>317</td>\n      <td>NaN</td>\n      <td>NaN</td>\n      <td>99124.48</td>\n      <td>21.68</td>\n      <td>35.93</td>\n      <td>99035.41</td>\n      <td>...</td>\n      <td>34.27</td>\n      <td>99105.64</td>\n      <td>21.81</td>\n      <td>34.41</td>\n      <td>99071.52</td>\n      <td>21.66</td>\n      <td>34.76</td>\n      <td>99097.93</td>\n      <td>21.9</td>\n      <td>35.71</td>\n    </tr>\n    <tr>\n      <th>2</th>\n      <td>19</td>\n      <td>32</td>\n      <td>19</td>\n      <td>271</td>\n      <td>NaN</td>\n      <td>NaN</td>\n      <td>99128.02</td>\n      <td>21.68</td>\n      <td>36.33</td>\n      <td>99031.88</td>\n      <td>...</td>\n      <td>34.26</td>\n      <td>99097.64</td>\n      <td>21.81</td>\n      <td>34.42</td>\n      <td>99071.52</td>\n      <td>21.66</td>\n      <td>34.73</td>\n      <td>99107.8</td>\n      <td>21.91</td>\n      <td>35.69</td>\n    </tr>\n    <tr>\n      <th>3</th>\n      <td>19</td>\n      <td>32</td>\n      <td>20</td>\n      <td>221</td>\n      <td>NaN</td>\n      <td>NaN</td>\n      <td>99123.48</td>\n      <td>21.69</td>\n      <td>36.06</td>\n      <td>99041.6</td>\n      <td>...</td>\n      <td>34.28</td>\n      <td>99105.64</td>\n      <td>21.81</td>\n      <td>34.4</td>\n      <td>99080.2</td>\n      <td>21.68</td>\n      <td>34.72</td>\n      <td>99104.22</td>\n      <td>21.9</td>\n      <td>35.7</td>\n    </tr>\n    <tr>\n      <th>4</th>\n      <td>19</td>\n      <td>32</td>\n      <td>21</td>\n      <td>169</td>\n      <td>NaN</td>\n      <td>NaN</td>\n      <td>99112.66</td>\n      <td>21.69</td>\n      <td>36.3</td>\n      <td>99037.25</td>\n      <td>...</td>\n      <td>34.26</td>\n      <td>99101.12</td>\n      <td>21.82</td>\n      <td>34.4</td>\n      <td>99071.52</td>\n      <td>21.66</td>\n      <td>34.72</td>\n      <td>99101.5</td>\n      <td>21.9</td>\n      <td>35.69</td>\n    </tr>\n    <tr>\n      <th>...</th>\n      <td>...</td>\n      <td>...</td>\n      <td>...</td>\n      <td>...</td>\n      <td>...</td>\n      <td>...</td>\n      <td>...</td>\n      <td>...</td>\n      <td>...</td>\n      <td>...</td>\n      <td>...</td>\n      <td>...</td>\n      <td>...</td>\n      <td>...</td>\n      <td>...</td>\n      <td>...</td>\n      <td>...</td>\n      <td>...</td>\n      <td>...</td>\n      <td>...</td>\n      <td>...</td>\n    </tr>\n    <tr>\n      <th>210</th>\n      <td>19</td>\n      <td>35</td>\n      <td>36</td>\n      <td>395</td>\n      <td>NaN</td>\n      <td>NaN</td>\n      <td>99121.59</td>\n      <td>21.53</td>\n      <td>36.19</td>\n      <td>99039.39</td>\n      <td>...</td>\n      <td>34.17</td>\n      <td>99103.48</td>\n      <td>21.58</td>\n      <td>34.31</td>\n      <td>99067.59</td>\n      <td>21.43</td>\n      <td>34.62</td>\n      <td>99093.54</td>\n      <td>21.68</td>\n      <td>35.52</td>\n    </tr>\n    <tr>\n      <th>211</th>\n      <td>19</td>\n      <td>35</td>\n      <td>37</td>\n      <td>342</td>\n      <td>NaN</td>\n      <td>NaN</td>\n      <td>99115.15</td>\n      <td>21.54</td>\n      <td>36.17</td>\n      <td>99031.32</td>\n      <td>...</td>\n      <td>34.17</td>\n      <td>99098.15</td>\n      <td>21.58</td>\n      <td>34.31</td>\n      <td>99068.63</td>\n      <td>21.42</td>\n      <td>34.63</td>\n      <td>99097.98</td>\n      <td>21.69</td>\n      <td>35.5</td>\n    </tr>\n    <tr>\n      <th>212</th>\n      <td>19</td>\n      <td>35</td>\n      <td>38</td>\n      <td>292</td>\n      <td>NaN</td>\n      <td>NaN</td>\n      <td>99127.84</td>\n      <td>21.53</td>\n      <td>36.14</td>\n      <td>99030.29</td>\n      <td>...</td>\n      <td>34.19</td>\n      <td>99098.15</td>\n      <td>21.58</td>\n      <td>34.32</td>\n      <td>99065.94</td>\n      <td>21.42</td>\n      <td>34.62</td>\n      <td>99097.12</td>\n      <td>21.68</td>\n      <td>35.48</td>\n    </tr>\n    <tr>\n      <th>213</th>\n      <td>19</td>\n      <td>35</td>\n      <td>39</td>\n      <td>239</td>\n      <td>NaN</td>\n      <td>NaN</td>\n      <td>99118.88</td>\n      <td>21.53</td>\n      <td>36.12</td>\n      <td>99038.54</td>\n      <td>...</td>\n      <td>34.16</td>\n      <td>99093.64</td>\n      <td>21.59</td>\n      <td>34.3</td>\n      <td>99065.72</td>\n      <td>21.44</td>\n      <td>34.64</td>\n      <td>99103.41</td>\n      <td>21.69</td>\n      <td>35.47</td>\n    </tr>\n    <tr>\n      <th>214</th>\n      <td>19</td>\n      <td>35</td>\n      <td>40</td>\n      <td>189</td>\n      <td>NaN</td>\n      <td>NaN</td>\n      <td>99112.63</td>\n      <td>21.52</td>\n      <td>36.26</td>\n      <td>99037.54</td>\n      <td>...</td>\n      <td>34.16</td>\n      <td>99098.97</td>\n      <td>21.59</td>\n      <td>34.33</td>\n      <td>99067.59</td>\n      <td>21.43</td>\n      <td>34.62</td>\n      <td>99097.12</td>\n      <td>21.68</td>\n      <td>35.5</td>\n    </tr>\n  </tbody>\n</table>\n<p>215 rows × 42 columns</p>\n</div>"
     },
     "execution_count": 1,
     "metadata": {},
     "output_type": "execute_result"
    }
   ],
   "source": [
    "import pandas as pd\n",
    "df = pd.read_csv(r\"C:\\code\\CSLMSM\\cleansky_LMSM\\file_input\\sensor_data_v2.csv\", header=0)\n",
    "df"
   ]
  },
  {
   "cell_type": "code",
   "execution_count": 3,
   "outputs": [
    {
     "data": {
      "text/plain": "Index(['N/A', 'N/A.1', '  ', '  .1', 'BMP388', '1024', 'BME280', '0', '0.1',\n       'BME280.1', '0.2', '1', 'BME280.2', '0.3', '2', 'BME280.3', '0.4', '3',\n       'BME280.4', '0.5', '4', 'BME280.5', '0.6', '5', 'BME280.6', '0.7', '6',\n       'BME280.7', '0.8', '7', 'BME280.8', '0.9', '8', 'BME280.9', '0.10', '9',\n       'BME280.10', '0.11', '10', 'BME280.11', '0.12', '11'],\n      dtype='object')"
     },
     "execution_count": 3,
     "metadata": {},
     "output_type": "execute_result"
    }
   ],
   "source": [
    "header_list = df.columns\n",
    "header_list"
   ],
   "metadata": {
    "collapsed": false,
    "pycharm": {
     "name": "#%%\n"
    }
   }
  },
  {
   "cell_type": "code",
   "execution_count": 6,
   "outputs": [
    {
     "data": {
      "text/plain": "array([False, False, False, False,  True, False,  True, False, False,\n        True, False, False,  True, False, False,  True, False, False,\n        True, False, False,  True, False, False,  True, False, False,\n        True, False, False,  True, False, False,  True, False, False,\n        True, False, False,  True, False, False])"
     },
     "execution_count": 6,
     "metadata": {},
     "output_type": "execute_result"
    }
   ],
   "source": [
    "pattern = '^[^0-9]'\n",
    "sensor_name_flag = header_list.str.contains(pat=pattern)\n",
    "sensor_name_flag[:4] = False\n",
    "sensor_name_flag"
   ],
   "metadata": {
    "collapsed": false,
    "pycharm": {
     "name": "#%%\n"
    }
   }
  },
  {
   "cell_type": "code",
   "execution_count": 7,
   "outputs": [
    {
     "data": {
      "text/plain": "Index(['BMP388', 'BME280', 'BME280.1', 'BME280.2', 'BME280.3', 'BME280.4',\n       'BME280.5', 'BME280.6', 'BME280.7', 'BME280.8', 'BME280.9', 'BME280.10',\n       'BME280.11'],\n      dtype='object')"
     },
     "execution_count": 7,
     "metadata": {},
     "output_type": "execute_result"
    }
   ],
   "source": [
    "sensor_name = header_list[sensor_name_flag]\n",
    "sensor_name"
   ],
   "metadata": {
    "collapsed": false,
    "pycharm": {
     "name": "#%%\n"
    }
   }
  },
  {
   "cell_type": "code",
   "execution_count": null,
   "outputs": [],
   "source": [],
   "metadata": {
    "collapsed": false,
    "pycharm": {
     "name": "#%%\n"
    }
   }
  }
 ],
 "metadata": {
  "kernelspec": {
   "display_name": "Python 3",
   "language": "python",
   "name": "python3"
  },
  "language_info": {
   "codemirror_mode": {
    "name": "ipython",
    "version": 2
   },
   "file_extension": ".py",
   "mimetype": "text/x-python",
   "name": "python",
   "nbconvert_exporter": "python",
   "pygments_lexer": "ipython2",
   "version": "2.7.6"
  }
 },
 "nbformat": 4,
 "nbformat_minor": 0
}