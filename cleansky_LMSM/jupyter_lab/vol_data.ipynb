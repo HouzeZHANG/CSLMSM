{
 "cells": [
  {
   "cell_type": "markdown",
   "source": [],
   "metadata": {
    "collapsed": false
   }
  },
  {
   "cell_type": "code",
   "execution_count": 2,
   "outputs": [
    {
     "data": {
      "text/plain": "     local time UTC   Latitude  Longitude  QFE altitude baro  InHg Altitude  \\\n0           9:59:25  50.491027   4.773818                561             30   \n1           9:59:26  50.490973   4.773661                560             30   \n2           9:59:27  50.490911   4.773475                559             30   \n3           9:59:28  50.490833   4.773271                559             30   \n4           9:59:29  50.490749   4.773041                557             30   \n...             ...        ...        ...                ...            ...   \n1605       10:26:09  50.489811   4.770513                553             30   \n1606       10:26:10  50.489742   4.770325                554             30   \n1607       10:26:11  50.489682   4.770140                555             30   \n1608       10:26:12  50.489617   4.769963                556             30   \n1609       10:26:13  50.489560   4.769790                557             30   \n\n      See level Altitude  Static Temperature  Indicated air speed  \\\n0                  563.4                18.8                29.87   \n1                  563.8                18.8                31.91   \n2                  564.2                18.8                34.80   \n3                  564.6                18.5                40.67   \n4                  565.1                18.5                42.63   \n...                  ...                 ...                  ...   \n1605               574.1                17.8                34.47   \n1606               574.7                17.8                32.40   \n1607               575.4                17.8                30.92   \n1608               576.0                17.8                30.32   \n1609               576.2                17.8                29.76   \n\n      GPS Ground speed  Vertical speed  ...  Lateral acceleration  \\\n0                20.00          -13.17  ...                  0.02   \n1                24.28          -29.72  ...                 -0.01   \n2                28.46          -46.31  ...                 -0.02   \n3                32.50          -53.62  ...                  0.01   \n4                36.41          -57.35  ...                  0.02   \n...                ...             ...  ...                   ...   \n1605             30.91           57.92  ...                 -0.03   \n1606             29.92           56.05  ...                 -0.04   \n1607             29.02           49.08  ...                 -0.02   \n1608             28.21           49.97  ...                 -0.02   \n1609             27.41           45.27  ...                 -0.03   \n\n      Normal acceleration  Magnetic heading  GPS heading  GPS altitude  \\\n0                    0.00             238.5        238.5         714.1   \n1                    0.02             239.9        239.4         714.5   \n2                   -0.02             237.5        239.9         714.9   \n3                    0.05             237.1        238.2         715.3   \n4                   -0.03             237.8        238.0         715.8   \n...                   ...               ...          ...           ...   \n1605                 0.00             238.1        239.8         724.8   \n1606                -0.02             239.4        239.6         725.4   \n1607                 0.00             237.8        240.0         726.1   \n1608                 0.03             238.4        239.1         726.7   \n1609                 0.01             237.2        239.3         726.9   \n\n      True Air Speed  Course  Wind speed  Wind direction  ISA Pressure altitud  \n0                 30     150       10.34           241.2                   486  \n1                 32     150        8.14           244.2                   485  \n2                 35     150        6.97           231.2                   484  \n3                 41     150        8.81           236.2                   484  \n4                 43     150        6.87           240.5                   482  \n...              ...     ...         ...             ...                   ...  \n1605              35     150        4.11           229.6                   478  \n1606              33     150        2.92           242.6                   479  \n1607              31     150        2.54           217.7                   480  \n1608              31     150        2.55           236.1                   481  \n1609              30     150        2.91           222.2                   482  \n\n[1610 rows x 22 columns]",
      "text/html": "<div>\n<style scoped>\n    .dataframe tbody tr th:only-of-type {\n        vertical-align: middle;\n    }\n\n    .dataframe tbody tr th {\n        vertical-align: top;\n    }\n\n    .dataframe thead th {\n        text-align: right;\n    }\n</style>\n<table border=\"1\" class=\"dataframe\">\n  <thead>\n    <tr style=\"text-align: right;\">\n      <th></th>\n      <th>local time UTC</th>\n      <th>Latitude</th>\n      <th>Longitude</th>\n      <th>QFE altitude baro</th>\n      <th>InHg Altitude</th>\n      <th>See level Altitude</th>\n      <th>Static Temperature</th>\n      <th>Indicated air speed</th>\n      <th>GPS Ground speed</th>\n      <th>Vertical speed</th>\n      <th>...</th>\n      <th>Lateral acceleration</th>\n      <th>Normal acceleration</th>\n      <th>Magnetic heading</th>\n      <th>GPS heading</th>\n      <th>GPS altitude</th>\n      <th>True Air Speed</th>\n      <th>Course</th>\n      <th>Wind speed</th>\n      <th>Wind direction</th>\n      <th>ISA Pressure altitud</th>\n    </tr>\n  </thead>\n  <tbody>\n    <tr>\n      <th>0</th>\n      <td>9:59:25</td>\n      <td>50.491027</td>\n      <td>4.773818</td>\n      <td>561</td>\n      <td>30</td>\n      <td>563.4</td>\n      <td>18.8</td>\n      <td>29.87</td>\n      <td>20.00</td>\n      <td>-13.17</td>\n      <td>...</td>\n      <td>0.02</td>\n      <td>0.00</td>\n      <td>238.5</td>\n      <td>238.5</td>\n      <td>714.1</td>\n      <td>30</td>\n      <td>150</td>\n      <td>10.34</td>\n      <td>241.2</td>\n      <td>486</td>\n    </tr>\n    <tr>\n      <th>1</th>\n      <td>9:59:26</td>\n      <td>50.490973</td>\n      <td>4.773661</td>\n      <td>560</td>\n      <td>30</td>\n      <td>563.8</td>\n      <td>18.8</td>\n      <td>31.91</td>\n      <td>24.28</td>\n      <td>-29.72</td>\n      <td>...</td>\n      <td>-0.01</td>\n      <td>0.02</td>\n      <td>239.9</td>\n      <td>239.4</td>\n      <td>714.5</td>\n      <td>32</td>\n      <td>150</td>\n      <td>8.14</td>\n      <td>244.2</td>\n      <td>485</td>\n    </tr>\n    <tr>\n      <th>2</th>\n      <td>9:59:27</td>\n      <td>50.490911</td>\n      <td>4.773475</td>\n      <td>559</td>\n      <td>30</td>\n      <td>564.2</td>\n      <td>18.8</td>\n      <td>34.80</td>\n      <td>28.46</td>\n      <td>-46.31</td>\n      <td>...</td>\n      <td>-0.02</td>\n      <td>-0.02</td>\n      <td>237.5</td>\n      <td>239.9</td>\n      <td>714.9</td>\n      <td>35</td>\n      <td>150</td>\n      <td>6.97</td>\n      <td>231.2</td>\n      <td>484</td>\n    </tr>\n    <tr>\n      <th>3</th>\n      <td>9:59:28</td>\n      <td>50.490833</td>\n      <td>4.773271</td>\n      <td>559</td>\n      <td>30</td>\n      <td>564.6</td>\n      <td>18.5</td>\n      <td>40.67</td>\n      <td>32.50</td>\n      <td>-53.62</td>\n      <td>...</td>\n      <td>0.01</td>\n      <td>0.05</td>\n      <td>237.1</td>\n      <td>238.2</td>\n      <td>715.3</td>\n      <td>41</td>\n      <td>150</td>\n      <td>8.81</td>\n      <td>236.2</td>\n      <td>484</td>\n    </tr>\n    <tr>\n      <th>4</th>\n      <td>9:59:29</td>\n      <td>50.490749</td>\n      <td>4.773041</td>\n      <td>557</td>\n      <td>30</td>\n      <td>565.1</td>\n      <td>18.5</td>\n      <td>42.63</td>\n      <td>36.41</td>\n      <td>-57.35</td>\n      <td>...</td>\n      <td>0.02</td>\n      <td>-0.03</td>\n      <td>237.8</td>\n      <td>238.0</td>\n      <td>715.8</td>\n      <td>43</td>\n      <td>150</td>\n      <td>6.87</td>\n      <td>240.5</td>\n      <td>482</td>\n    </tr>\n    <tr>\n      <th>...</th>\n      <td>...</td>\n      <td>...</td>\n      <td>...</td>\n      <td>...</td>\n      <td>...</td>\n      <td>...</td>\n      <td>...</td>\n      <td>...</td>\n      <td>...</td>\n      <td>...</td>\n      <td>...</td>\n      <td>...</td>\n      <td>...</td>\n      <td>...</td>\n      <td>...</td>\n      <td>...</td>\n      <td>...</td>\n      <td>...</td>\n      <td>...</td>\n      <td>...</td>\n      <td>...</td>\n    </tr>\n    <tr>\n      <th>1605</th>\n      <td>10:26:09</td>\n      <td>50.489811</td>\n      <td>4.770513</td>\n      <td>553</td>\n      <td>30</td>\n      <td>574.1</td>\n      <td>17.8</td>\n      <td>34.47</td>\n      <td>30.91</td>\n      <td>57.92</td>\n      <td>...</td>\n      <td>-0.03</td>\n      <td>0.00</td>\n      <td>238.1</td>\n      <td>239.8</td>\n      <td>724.8</td>\n      <td>35</td>\n      <td>150</td>\n      <td>4.11</td>\n      <td>229.6</td>\n      <td>478</td>\n    </tr>\n    <tr>\n      <th>1606</th>\n      <td>10:26:10</td>\n      <td>50.489742</td>\n      <td>4.770325</td>\n      <td>554</td>\n      <td>30</td>\n      <td>574.7</td>\n      <td>17.8</td>\n      <td>32.40</td>\n      <td>29.92</td>\n      <td>56.05</td>\n      <td>...</td>\n      <td>-0.04</td>\n      <td>-0.02</td>\n      <td>239.4</td>\n      <td>239.6</td>\n      <td>725.4</td>\n      <td>33</td>\n      <td>150</td>\n      <td>2.92</td>\n      <td>242.6</td>\n      <td>479</td>\n    </tr>\n    <tr>\n      <th>1607</th>\n      <td>10:26:11</td>\n      <td>50.489682</td>\n      <td>4.770140</td>\n      <td>555</td>\n      <td>30</td>\n      <td>575.4</td>\n      <td>17.8</td>\n      <td>30.92</td>\n      <td>29.02</td>\n      <td>49.08</td>\n      <td>...</td>\n      <td>-0.02</td>\n      <td>0.00</td>\n      <td>237.8</td>\n      <td>240.0</td>\n      <td>726.1</td>\n      <td>31</td>\n      <td>150</td>\n      <td>2.54</td>\n      <td>217.7</td>\n      <td>480</td>\n    </tr>\n    <tr>\n      <th>1608</th>\n      <td>10:26:12</td>\n      <td>50.489617</td>\n      <td>4.769963</td>\n      <td>556</td>\n      <td>30</td>\n      <td>576.0</td>\n      <td>17.8</td>\n      <td>30.32</td>\n      <td>28.21</td>\n      <td>49.97</td>\n      <td>...</td>\n      <td>-0.02</td>\n      <td>0.03</td>\n      <td>238.4</td>\n      <td>239.1</td>\n      <td>726.7</td>\n      <td>31</td>\n      <td>150</td>\n      <td>2.55</td>\n      <td>236.1</td>\n      <td>481</td>\n    </tr>\n    <tr>\n      <th>1609</th>\n      <td>10:26:13</td>\n      <td>50.489560</td>\n      <td>4.769790</td>\n      <td>557</td>\n      <td>30</td>\n      <td>576.2</td>\n      <td>17.8</td>\n      <td>29.76</td>\n      <td>27.41</td>\n      <td>45.27</td>\n      <td>...</td>\n      <td>-0.03</td>\n      <td>0.01</td>\n      <td>237.2</td>\n      <td>239.3</td>\n      <td>726.9</td>\n      <td>30</td>\n      <td>150</td>\n      <td>2.91</td>\n      <td>222.2</td>\n      <td>482</td>\n    </tr>\n  </tbody>\n</table>\n<p>1610 rows × 22 columns</p>\n</div>"
     },
     "execution_count": 2,
     "metadata": {},
     "output_type": "execute_result"
    }
   ],
   "source": [
    "import pandas as pd\n",
    "df = pd.read_csv(r\"C:\\code\\CSLMSM\\cleansky_LMSM\\file_input\\vol_data_v3.csv\", header=0)\n",
    "df"
   ],
   "metadata": {
    "collapsed": false,
    "pycharm": {
     "name": "#%%\n"
    }
   }
  },
  {
   "cell_type": "code",
   "execution_count": 3,
   "outputs": [
    {
     "name": "stdout",
     "output_type": "stream",
     "text": [
      "local time UTC\n"
     ]
    }
   ],
   "source": [
    "for col in df:\n",
    "    print(col)\n",
    "    break"
   ],
   "metadata": {
    "collapsed": false,
    "pycharm": {
     "name": "#%%\n"
    }
   }
  },
  {
   "cell_type": "code",
   "execution_count": null,
   "outputs": [],
   "source": [
    "time_series_field = df.columns[0]\n",
    "time_series ="
   ],
   "metadata": {
    "collapsed": false,
    "pycharm": {
     "name": "#%%\n"
    }
   }
  },
  {
   "cell_type": "code",
   "execution_count": 7,
   "outputs": [
    {
     "name": "stdout",
     "output_type": "stream",
     "text": [
      "0       50.491027\n",
      "1       50.490973\n",
      "2       50.490911\n",
      "3       50.490833\n",
      "4       50.490749\n",
      "          ...    \n",
      "1605    50.489811\n",
      "1606    50.489742\n",
      "1607    50.489682\n",
      "1608    50.489617\n",
      "1609    50.489560\n",
      "Name: Latitude, Length: 1610, dtype: float64\n",
      "0       4.773818\n",
      "1       4.773661\n",
      "2       4.773475\n",
      "3       4.773271\n",
      "4       4.773041\n",
      "          ...   \n",
      "1605    4.770513\n",
      "1606    4.770325\n",
      "1607    4.770140\n",
      "1608    4.769963\n",
      "1609    4.769790\n",
      "Name: Longitude, Length: 1610, dtype: float64\n",
      "0       561\n",
      "1       560\n",
      "2       559\n",
      "3       559\n",
      "4       557\n",
      "       ... \n",
      "1605    553\n",
      "1606    554\n",
      "1607    555\n",
      "1608    556\n",
      "1609    557\n",
      "Name: QFE altitude baro, Length: 1610, dtype: int64\n",
      "0       30\n",
      "1       30\n",
      "2       30\n",
      "3       30\n",
      "4       30\n",
      "        ..\n",
      "1605    30\n",
      "1606    30\n",
      "1607    30\n",
      "1608    30\n",
      "1609    30\n",
      "Name: InHg Altitude, Length: 1610, dtype: int64\n",
      "0       563.4\n",
      "1       563.8\n",
      "2       564.2\n",
      "3       564.6\n",
      "4       565.1\n",
      "        ...  \n",
      "1605    574.1\n",
      "1606    574.7\n",
      "1607    575.4\n",
      "1608    576.0\n",
      "1609    576.2\n",
      "Name: See level Altitude, Length: 1610, dtype: float64\n",
      "0       18.8\n",
      "1       18.8\n",
      "2       18.8\n",
      "3       18.5\n",
      "4       18.5\n",
      "        ... \n",
      "1605    17.8\n",
      "1606    17.8\n",
      "1607    17.8\n",
      "1608    17.8\n",
      "1609    17.8\n",
      "Name: Static Temperature, Length: 1610, dtype: float64\n",
      "0       29.87\n",
      "1       31.91\n",
      "2       34.80\n",
      "3       40.67\n",
      "4       42.63\n",
      "        ...  \n",
      "1605    34.47\n",
      "1606    32.40\n",
      "1607    30.92\n",
      "1608    30.32\n",
      "1609    29.76\n",
      "Name: Indicated air speed, Length: 1610, dtype: float64\n",
      "0       20.00\n",
      "1       24.28\n",
      "2       28.46\n",
      "3       32.50\n",
      "4       36.41\n",
      "        ...  \n",
      "1605    30.91\n",
      "1606    29.92\n",
      "1607    29.02\n",
      "1608    28.21\n",
      "1609    27.41\n",
      "Name: GPS Ground speed, Length: 1610, dtype: float64\n",
      "0      -13.17\n",
      "1      -29.72\n",
      "2      -46.31\n",
      "3      -53.62\n",
      "4      -57.35\n",
      "        ...  \n",
      "1605    57.92\n",
      "1606    56.05\n",
      "1607    49.08\n",
      "1608    49.97\n",
      "1609    45.27\n",
      "Name: Vertical speed, Length: 1610, dtype: float64\n",
      "0       0.18\n",
      "1       0.04\n",
      "2       0.30\n",
      "3       0.53\n",
      "4       0.27\n",
      "        ... \n",
      "1605    0.86\n",
      "1606    0.65\n",
      "1607    0.88\n",
      "1608    0.74\n",
      "1609    0.86\n",
      "Name: Pitch, Length: 1610, dtype: float64\n",
      "0       0.48\n",
      "1       0.33\n",
      "2       0.11\n",
      "3       0.32\n",
      "4       0.11\n",
      "        ... \n",
      "1605    0.83\n",
      "1606    0.86\n",
      "1607    0.60\n",
      "1608    0.49\n",
      "1609    0.51\n",
      "Name: Roll, Length: 1610, dtype: float64\n",
      "0       0.02\n",
      "1      -0.01\n",
      "2      -0.02\n",
      "3       0.01\n",
      "4       0.02\n",
      "        ... \n",
      "1605   -0.03\n",
      "1606   -0.04\n",
      "1607   -0.02\n",
      "1608   -0.02\n",
      "1609   -0.03\n",
      "Name: Lateral acceleration, Length: 1610, dtype: float64\n",
      "0       0.00\n",
      "1       0.02\n",
      "2      -0.02\n",
      "3       0.05\n",
      "4      -0.03\n",
      "        ... \n",
      "1605    0.00\n",
      "1606   -0.02\n",
      "1607    0.00\n",
      "1608    0.03\n",
      "1609    0.01\n",
      "Name: Normal acceleration, Length: 1610, dtype: float64\n",
      "0       238.5\n",
      "1       239.9\n",
      "2       237.5\n",
      "3       237.1\n",
      "4       237.8\n",
      "        ...  \n",
      "1605    238.1\n",
      "1606    239.4\n",
      "1607    237.8\n",
      "1608    238.4\n",
      "1609    237.2\n",
      "Name: Magnetic heading, Length: 1610, dtype: float64\n",
      "0       238.5\n",
      "1       239.4\n",
      "2       239.9\n",
      "3       238.2\n",
      "4       238.0\n",
      "        ...  \n",
      "1605    239.8\n",
      "1606    239.6\n",
      "1607    240.0\n",
      "1608    239.1\n",
      "1609    239.3\n",
      "Name: GPS heading, Length: 1610, dtype: float64\n",
      "0       714.1\n",
      "1       714.5\n",
      "2       714.9\n",
      "3       715.3\n",
      "4       715.8\n",
      "        ...  \n",
      "1605    724.8\n",
      "1606    725.4\n",
      "1607    726.1\n",
      "1608    726.7\n",
      "1609    726.9\n",
      "Name: GPS altitude, Length: 1610, dtype: float64\n",
      "0       30\n",
      "1       32\n",
      "2       35\n",
      "3       41\n",
      "4       43\n",
      "        ..\n",
      "1605    35\n",
      "1606    33\n",
      "1607    31\n",
      "1608    31\n",
      "1609    30\n",
      "Name: True Air Speed, Length: 1610, dtype: int64\n",
      "0       150\n",
      "1       150\n",
      "2       150\n",
      "3       150\n",
      "4       150\n",
      "       ... \n",
      "1605    150\n",
      "1606    150\n",
      "1607    150\n",
      "1608    150\n",
      "1609    150\n",
      "Name: Course, Length: 1610, dtype: int64\n",
      "0       10.34\n",
      "1        8.14\n",
      "2        6.97\n",
      "3        8.81\n",
      "4        6.87\n",
      "        ...  \n",
      "1605     4.11\n",
      "1606     2.92\n",
      "1607     2.54\n",
      "1608     2.55\n",
      "1609     2.91\n",
      "Name: Wind speed, Length: 1610, dtype: float64\n",
      "0       241.2\n",
      "1       244.2\n",
      "2       231.2\n",
      "3       236.2\n",
      "4       240.5\n",
      "        ...  \n",
      "1605    229.6\n",
      "1606    242.6\n",
      "1607    217.7\n",
      "1608    236.1\n",
      "1609    222.2\n",
      "Name: Wind direction, Length: 1610, dtype: float64\n",
      "0       486\n",
      "1       485\n",
      "2       484\n",
      "3       484\n",
      "4       482\n",
      "       ... \n",
      "1605    478\n",
      "1606    479\n",
      "1607    480\n",
      "1608    481\n",
      "1609    482\n",
      "Name: ISA Pressure altitud, Length: 1610, dtype: int64\n"
     ]
    }
   ],
   "source": [
    "for item in df.columns[1:]:\n",
    "    param_name = item\n",
    "    sub_df = pd.DataFrame(df)\n",
    "    print(df[item])"
   ],
   "metadata": {
    "collapsed": false,
    "pycharm": {
     "name": "#%%\n"
    }
   }
  },
  {
   "cell_type": "code",
   "execution_count": null,
   "outputs": [],
   "source": [],
   "metadata": {
    "collapsed": false,
    "pycharm": {
     "name": "#%%\n"
    }
   }
  },
  {
   "cell_type": "code",
   "execution_count": null,
   "outputs": [],
   "source": [],
   "metadata": {
    "collapsed": false,
    "pycharm": {
     "name": "#%%\n"
    }
   }
  }
 ],
 "metadata": {
  "kernelspec": {
   "display_name": "Python 3",
   "language": "python",
   "name": "python3"
  },
  "language_info": {
   "codemirror_mode": {
    "name": "ipython",
    "version": 2
   },
   "file_extension": ".py",
   "mimetype": "text/x-python",
   "name": "python",
   "nbconvert_exporter": "python",
   "pygments_lexer": "ipython2",
   "version": "2.7.6"
  }
 },
 "nbformat": 4,
 "nbformat_minor": 0
}